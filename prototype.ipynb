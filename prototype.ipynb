{
 "cells": [
  {
   "cell_type": "markdown",
   "id": "8b98bb96-89b6-4055-80f8-089c8643bd6c",
   "metadata": {},
   "source": [
    "- Models\n",
    "    - distilbert\n",
    "        - https://huggingface.co/distilbert-base-uncased-distilled-squad\n",
    "        - word count restricted to 512\n",
    "        - appropriate for page summaries\n",
    "    - look into\n",
    "        - longform\n",
    "            - https://medium.com/dair-ai/longformer-what-bert-should-have-been-78f4cd595be9\n",
    "    - model open directory\n",
    "        - https://huggingface.co/"
   ]
  },
  {
   "cell_type": "markdown",
   "id": "3629714f-3397-41b3-99b1-a486536bc50a",
   "metadata": {},
   "source": [
    "# How to use?"
   ]
  },
  {
   "cell_type": "markdown",
   "id": "3133a422-7592-4d06-a17f-a719ad48d39c",
   "metadata": {},
   "source": [
    "For running the final system:\n",
    "- `Setup`\n",
    "- `WikiAI Functions`\n",
    "- `WikiAi` / `WikiAI Setup`\n",
    "  - Change variable CORPUS_TO_USE to switch between curated and auto Wikipedia article lists.\n",
    "- `WikiAI` / `Model served with Gradio`\n",
    "\n",
    "For changing the curated list and generating new corpus, go to section `Data input`."
   ]
  },
  {
   "cell_type": "markdown",
   "id": "c4c108b1-b897-455e-af13-604e347bb46c",
   "metadata": {},
   "source": [
    "# Setup"
   ]
  },
  {
   "cell_type": "code",
   "execution_count": 2,
   "id": "fb1c037d-237f-4db7-8323-2bc8b0afb2ea",
   "metadata": {},
   "outputs": [],
   "source": [
    "# for distilbert - answer questions\n",
    "from transformers import AutoTokenizer, AutoModelForQuestionAnswering\n",
    "import torch\n",
    "\n",
    "# for choosing the correct article to answer question\n",
    "from sentence_transformers import SentenceTransformer, util\n",
    "\n",
    "\n",
    "# for getting wikipedia articles\n",
    "import wikipediaapi\n",
    "wiki_wiki = wikipediaapi.Wikipedia('en')\n",
    "\n",
    "# data\n",
    "import pandas as pd\n",
    "\n",
    "\n",
    "# utils\n",
    "import tqdm\n",
    "import gradio as gr\n",
    "\n",
    "# standard\n",
    "from typing import Iterable"
   ]
  },
  {
   "cell_type": "code",
   "execution_count": 3,
   "id": "96c51523-f4cd-442a-8793-abed03f9cdbe",
   "metadata": {},
   "outputs": [
    {
     "data": {
      "text/plain": [
       "device(type='cuda', index=1)"
      ]
     },
     "execution_count": 3,
     "metadata": {},
     "output_type": "execute_result"
    }
   ],
   "source": [
    "device = torch.device(\"cuda:1\" if torch.cuda.is_available() else \"cpu\")\n",
    "device"
   ]
  },
  {
   "cell_type": "markdown",
   "id": "53345794-6aef-4b28-a5a6-995483edf3ee",
   "metadata": {},
   "source": [
    "# WikiAI Functions"
   ]
  },
  {
   "cell_type": "code",
   "execution_count": 4,
   "id": "4639fc02-ab3b-4653-9feb-653a97d317b8",
   "metadata": {},
   "outputs": [],
   "source": [
    "def get_related_articles_top_k(query: str, corpus: pd.DataFrame, embedder, model, top_k: int = 10):\n",
    "    corpus_embeddings_loaded = model\n",
    "    query_embedding = embedder.encode(query, convert_to_tensor=True)\n",
    "    \n",
    "    hits = util.semantic_search(query_embedding, corpus_embeddings_loaded, top_k=top_k)\n",
    "    hits_idx = list(map(lambda x: x['corpus_id'], hits[0]))\n",
    "    \n",
    "    return corpus.iloc[hits_idx]\n",
    "\n",
    "\n",
    "def distilbert_ask(question, text, tokenizer, model):\n",
    "    inputs = tokenizer(question, text, return_tensors=\"pt\")\n",
    "    with torch.no_grad():\n",
    "        outputs = model(**inputs)\n",
    "\n",
    "    answer_start_index = outputs.start_logits.argmax()\n",
    "    answer_end_index = outputs.end_logits.argmax()\n",
    "\n",
    "    predict_answer_tokens = inputs.input_ids[0, answer_start_index : answer_end_index + 1]\n",
    "    return tokenizer.decode(predict_answer_tokens)\n",
    "\n",
    "\n",
    "def ask_question(question: str,\n",
    "                 related_articles_model,\n",
    "                 related_articles_embedder,\n",
    "                 related_articles_corpus: pd.DataFrame,\n",
    "                 question_models: dict,\n",
    "                 question_tokenizer,\n",
    "                 related_articles_top_k: int = 5,\n",
    "                 ):\n",
    "    # get all relevant articles\n",
    "    related = get_related_articles_top_k(query=question,\n",
    "                                         corpus=related_articles_corpus,\n",
    "                                         embedder=related_articles_embedder,\n",
    "                                         model=related_articles_model,\n",
    "                                         top_k=related_articles_top_k\n",
    "                                        )\n",
    "    results = pd.DataFrame()\n",
    "    # for each relevant article\n",
    "    for idx, page in related.iterrows():        \n",
    "        results.at[idx, 'article title'] = page['title']\n",
    "        results.at[idx, 'article summary'] = page['summary']\n",
    "        \n",
    "        # for each question asking model\n",
    "        for model_name, model_data in question_models.items():\n",
    "            model = model_data['model']\n",
    "            max_words = model_data['max_words']\n",
    "            \n",
    "            # run model on questin with text\n",
    "            # TODO make sure num. tokens is not exceeded for given model\n",
    "            \n",
    "            text = page['summary']\n",
    "            assert text.strip() != ''  # context must be provided\n",
    "            answer = ''\n",
    "            try:\n",
    "                answer = distilbert_ask(question=question,\n",
    "                                        text=text,\n",
    "                                        tokenizer=question_tokenizer,\n",
    "                                        model=model)\n",
    "            except:\n",
    "                print('error during distilbert_ask')\n",
    "            \n",
    "            results.at[idx, model_name] = answer\n",
    "        \n",
    "    \n",
    "    return related, results\n",
    "    "
   ]
  },
  {
   "cell_type": "markdown",
   "id": "98241bf5-94c3-4a8d-824f-95a2425878b3",
   "metadata": {
    "tags": []
   },
   "source": [
    "# Data input"
   ]
  },
  {
   "cell_type": "markdown",
   "id": "c15cc5bd-fc67-443e-956d-58d0b994f7ba",
   "metadata": {},
   "source": [
    "## Curated collection"
   ]
  },
  {
   "cell_type": "code",
   "execution_count": 10,
   "id": "47908907-b74d-43f9-b918-c44ae0bd8cde",
   "metadata": {},
   "outputs": [],
   "source": [
    "# compile corpus\n",
    "curated_pages = '''\n",
    "Artificial intelligence\n",
    "Natural language processing\n",
    "Deep learning\n",
    "Supervised learning\n",
    "Semi-supervised learning\n",
    "Unsupervised learning\n",
    "Statistical classification\n",
    "Regression analysis\n",
    "Federated learning\n",
    "k-anonymity\n",
    "Data anonymization\n",
    "k-means clustering\n",
    "DBSCAN\n",
    "Dimensionality reduction\n",
    "Silhouette (clustering)\n",
    "Davies–Bouldin index\n",
    "Multidimensional scaling\n",
    "Cluster analysis\n",
    "Principal component analysis\n",
    "Isolation forest\n",
    "Unsupervised learning\n",
    "Hierarchical clustering\n",
    "Local outlier factor\n",
    "Kaiser–Meyer–Olkin test\n",
    "Bartlett's test\n",
    "\n",
    "Affinity propagation\n",
    "Automatic clustering algorithms\n",
    "BFR algorithm\n",
    "BIRCH\n",
    "Canopy clustering algorithm\n",
    "Chinese whispers (clustering method)\n",
    "Cluster-weighted modeling\n",
    "Cobweb (clustering)\n",
    "Complete-linkage clustering\n",
    "Constrained clustering\n",
    "CURE algorithm\n",
    "Data stream clustering\n",
    "DBSCAN\n",
    "Expectation–maximization algorithm\n",
    "FLAME clustering\n",
    "Fuzzy clustering\n",
    "Hierarchical clustering\n",
    "Hoshen–Kopelman algorithm\n",
    "Information bottleneck method\n",
    "Jenks natural breaks optimization\n",
    "K q-flats\n",
    "K-means clustering\n",
    "K-means++\n",
    "K-medians clustering\n",
    "K-medoids\n",
    "K-SVD\n",
    "Linde–Buzo–Gray algorithm\n",
    "Low-energy adaptive clustering hierarchy\n",
    "Mean shift\n",
    "Nearest-neighbor chain algorithm\n",
    "Neighbor joining\n",
    "OPTICS algorithm\n",
    "Pitman–Yor process\n",
    "Quantum clustering\n",
    "Self-organizing map\n",
    "SimRank\n",
    "Single-linkage clustering\n",
    "Spectral clustering\n",
    "SUBCLU\n",
    "UPGMA\n",
    "Ward's method\n",
    "WPGMA\n",
    "\n",
    "\n",
    "\n",
    "Support-vector machine\n",
    "Boosting (machine learning)\n",
    "Random forest\n",
    "Linear regression\n",
    "Logistic regression\n",
    "Naive Bayes classifier\n",
    "Artificial neural network\n",
    "Perceptron\n",
    "k-nearest neighbors algorithm\n",
    "Semi-supervised learning\n",
    "Ensemble learning\n",
    "Bootstrap aggregating\n",
    "\n",
    "\n",
    "\n",
    "'''\n",
    "\n",
    "curated_pages = curated_pages.strip().splitlines()  # string to list of strings\n",
    "curated_pages = [p for p in curated_pages if p.strip() != '']  # remove blank lines"
   ]
  },
  {
   "cell_type": "markdown",
   "id": "79d9666b-1e44-4a3b-b741-a99af5c5d803",
   "metadata": {
    "tags": []
   },
   "source": [
    "## Collect all pages under Machine learning"
   ]
  },
  {
   "cell_type": "code",
   "execution_count": null,
   "id": "a6d8a062-4225-4d5c-8274-bd79da44fe41",
   "metadata": {},
   "outputs": [],
   "source": [
    "cats_open = ['Category:Machine learning']\n",
    "cats_close = []\n",
    "all_pages = []\n",
    "while len(cats_open) > 0:\n",
    "    c = cats_open.pop()\n",
    "    if c in cats_close:\n",
    "        continue\n",
    "    cats_close.append(c)\n",
    "    cat = wiki_wiki.page(c)\n",
    "    members = list(cat.categorymembers.keys())\n",
    "    subcats = filter(lambda m: 'Category:' in m, members)\n",
    "    pages = filter(lambda m: 'Category:' not in m, members)\n",
    "    all_pages.extend(pages)\n",
    "    cats_open.extend(subcats)\n",
    "    \n",
    "# remove duplicates\n",
    "auto_pages = []\n",
    "for p in all_pages:\n",
    "    if p not in auto_pages:\n",
    "        auto_pages.append(p)\n"
   ]
  },
  {
   "cell_type": "markdown",
   "id": "1192aebd-ba7d-4622-a510-0d561c148ea4",
   "metadata": {},
   "source": [
    "## Prepare dataset"
   ]
  },
  {
   "cell_type": "code",
   "execution_count": 11,
   "id": "aae16978-67c4-4110-a5a4-bac04d30e3bc",
   "metadata": {},
   "outputs": [],
   "source": [
    "CORPUS_TO_USE = 'curated'"
   ]
  },
  {
   "cell_type": "code",
   "execution_count": 13,
   "id": "1a6d7425-16bd-4e7e-8429-c1477b1e51fe",
   "metadata": {},
   "outputs": [],
   "source": [
    "auto_pages=''"
   ]
  },
  {
   "cell_type": "code",
   "execution_count": 14,
   "id": "2e9936fa-c666-4823-b806-45780bf8df4f",
   "metadata": {},
   "outputs": [],
   "source": [
    "corpus_types = {'curated': curated_pages,\n",
    "                'auto': auto_pages}"
   ]
  },
  {
   "cell_type": "code",
   "execution_count": 15,
   "id": "80cb1179-0fcd-4661-8518-d90273a93bec",
   "metadata": {},
   "outputs": [],
   "source": [
    "wikipedia_pages = corpus_types[CORPUS_TO_USE]"
   ]
  },
  {
   "cell_type": "code",
   "execution_count": 16,
   "id": "aa373184-364c-4676-ae5d-db88241511f6",
   "metadata": {},
   "outputs": [],
   "source": [
    "df = pd.DataFrame({'title_input': wikipedia_pages})\n",
    "df['title'] = ''\n",
    "df['summary'] = ''\n",
    "df['text'] = ''"
   ]
  },
  {
   "cell_type": "code",
   "execution_count": 17,
   "id": "34066d75-6187-4a32-9b37-0b595a07cdf1",
   "metadata": {},
   "outputs": [
    {
     "name": "stderr",
     "output_type": "stream",
     "text": [
      "100%|████████████████████████████████████████████████████████████████████████████████████████████████████████████████| 79/79 [00:21<00:00,  3.61it/s]\n"
     ]
    },
    {
     "data": {
      "text/html": [
       "<div>\n",
       "<style scoped>\n",
       "    .dataframe tbody tr th:only-of-type {\n",
       "        vertical-align: middle;\n",
       "    }\n",
       "\n",
       "    .dataframe tbody tr th {\n",
       "        vertical-align: top;\n",
       "    }\n",
       "\n",
       "    .dataframe thead th {\n",
       "        text-align: right;\n",
       "    }\n",
       "</style>\n",
       "<table border=\"1\" class=\"dataframe\">\n",
       "  <thead>\n",
       "    <tr style=\"text-align: right;\">\n",
       "      <th></th>\n",
       "      <th>title_input</th>\n",
       "      <th>title</th>\n",
       "      <th>summary</th>\n",
       "      <th>text</th>\n",
       "    </tr>\n",
       "  </thead>\n",
       "  <tbody>\n",
       "    <tr>\n",
       "      <th>0</th>\n",
       "      <td>Artificial intelligence</td>\n",
       "      <td>Artificial intelligence</td>\n",
       "      <td>Artificial intelligence (AI) is intelligence d...</td>\n",
       "      <td>Artificial intelligence (AI) is intelligence d...</td>\n",
       "    </tr>\n",
       "    <tr>\n",
       "      <th>1</th>\n",
       "      <td>Natural language processing</td>\n",
       "      <td>Natural language processing</td>\n",
       "      <td>Natural language processing (NLP) is a subfiel...</td>\n",
       "      <td>Natural language processing (NLP) is a subfiel...</td>\n",
       "    </tr>\n",
       "    <tr>\n",
       "      <th>2</th>\n",
       "      <td>Deep learning</td>\n",
       "      <td>Deep learning</td>\n",
       "      <td>Deep learning  (also known as deep structured ...</td>\n",
       "      <td>Deep learning  (also known as deep structured ...</td>\n",
       "    </tr>\n",
       "    <tr>\n",
       "      <th>3</th>\n",
       "      <td>Supervised learning</td>\n",
       "      <td>Supervised learning</td>\n",
       "      <td>Supervised learning (SL) is the machine learni...</td>\n",
       "      <td>Supervised learning (SL) is the machine learni...</td>\n",
       "    </tr>\n",
       "    <tr>\n",
       "      <th>4</th>\n",
       "      <td>Semi-supervised learning</td>\n",
       "      <td>Semi-supervised learning</td>\n",
       "      <td>Semi-supervised learning is an approach to mac...</td>\n",
       "      <td>Semi-supervised learning is an approach to mac...</td>\n",
       "    </tr>\n",
       "    <tr>\n",
       "      <th>...</th>\n",
       "      <td>...</td>\n",
       "      <td>...</td>\n",
       "      <td>...</td>\n",
       "      <td>...</td>\n",
       "    </tr>\n",
       "    <tr>\n",
       "      <th>74</th>\n",
       "      <td>Perceptron</td>\n",
       "      <td>Perceptron</td>\n",
       "      <td>In machine learning, the perceptron is an algo...</td>\n",
       "      <td>In machine learning, the perceptron is an algo...</td>\n",
       "    </tr>\n",
       "    <tr>\n",
       "      <th>75</th>\n",
       "      <td>k-nearest neighbors algorithm</td>\n",
       "      <td>k-nearest neighbors algorithm</td>\n",
       "      <td>In statistics, the k-nearest neighbors algorit...</td>\n",
       "      <td>In statistics, the k-nearest neighbors algorit...</td>\n",
       "    </tr>\n",
       "    <tr>\n",
       "      <th>76</th>\n",
       "      <td>Semi-supervised learning</td>\n",
       "      <td>Semi-supervised learning</td>\n",
       "      <td>Semi-supervised learning is an approach to mac...</td>\n",
       "      <td>Semi-supervised learning is an approach to mac...</td>\n",
       "    </tr>\n",
       "    <tr>\n",
       "      <th>77</th>\n",
       "      <td>Ensemble learning</td>\n",
       "      <td>Ensemble learning</td>\n",
       "      <td>In statistics and machine learning, ensemble m...</td>\n",
       "      <td>In statistics and machine learning, ensemble m...</td>\n",
       "    </tr>\n",
       "    <tr>\n",
       "      <th>78</th>\n",
       "      <td>Bootstrap aggregating</td>\n",
       "      <td>Bootstrap aggregating</td>\n",
       "      <td>Bootstrap aggregating, also called bagging (fr...</td>\n",
       "      <td>Bootstrap aggregating, also called bagging (fr...</td>\n",
       "    </tr>\n",
       "  </tbody>\n",
       "</table>\n",
       "<p>79 rows × 4 columns</p>\n",
       "</div>"
      ],
      "text/plain": [
       "                      title_input                          title  \\\n",
       "0         Artificial intelligence        Artificial intelligence   \n",
       "1     Natural language processing    Natural language processing   \n",
       "2                   Deep learning                  Deep learning   \n",
       "3             Supervised learning            Supervised learning   \n",
       "4        Semi-supervised learning       Semi-supervised learning   \n",
       "..                            ...                            ...   \n",
       "74                     Perceptron                     Perceptron   \n",
       "75  k-nearest neighbors algorithm  k-nearest neighbors algorithm   \n",
       "76       Semi-supervised learning       Semi-supervised learning   \n",
       "77              Ensemble learning              Ensemble learning   \n",
       "78          Bootstrap aggregating          Bootstrap aggregating   \n",
       "\n",
       "                                              summary  \\\n",
       "0   Artificial intelligence (AI) is intelligence d...   \n",
       "1   Natural language processing (NLP) is a subfiel...   \n",
       "2   Deep learning  (also known as deep structured ...   \n",
       "3   Supervised learning (SL) is the machine learni...   \n",
       "4   Semi-supervised learning is an approach to mac...   \n",
       "..                                                ...   \n",
       "74  In machine learning, the perceptron is an algo...   \n",
       "75  In statistics, the k-nearest neighbors algorit...   \n",
       "76  Semi-supervised learning is an approach to mac...   \n",
       "77  In statistics and machine learning, ensemble m...   \n",
       "78  Bootstrap aggregating, also called bagging (fr...   \n",
       "\n",
       "                                                 text  \n",
       "0   Artificial intelligence (AI) is intelligence d...  \n",
       "1   Natural language processing (NLP) is a subfiel...  \n",
       "2   Deep learning  (also known as deep structured ...  \n",
       "3   Supervised learning (SL) is the machine learni...  \n",
       "4   Semi-supervised learning is an approach to mac...  \n",
       "..                                                ...  \n",
       "74  In machine learning, the perceptron is an algo...  \n",
       "75  In statistics, the k-nearest neighbors algorit...  \n",
       "76  Semi-supervised learning is an approach to mac...  \n",
       "77  In statistics and machine learning, ensemble m...  \n",
       "78  Bootstrap aggregating, also called bagging (fr...  \n",
       "\n",
       "[79 rows x 4 columns]"
      ]
     },
     "execution_count": 17,
     "metadata": {},
     "output_type": "execute_result"
    }
   ],
   "source": [
    "for idx, line in tqdm.tqdm(df.iterrows(), total=df.shape[0]):\n",
    "    page_py = wiki_wiki.page(line['title_input'])\n",
    "    df.at[idx, 'title'] = page_py.title\n",
    "    df.at[idx, 'text'] = page_py.text\n",
    "    df.at[idx, 'summary'] = page_py.summary\n",
    "    \n",
    "df"
   ]
  },
  {
   "cell_type": "code",
   "execution_count": 18,
   "id": "a5136fa9-25db-42cd-b218-6d21ff9c0564",
   "metadata": {},
   "outputs": [],
   "source": [
    "df.to_csv(f'corpus_wikipedia_{CORPUS_TO_USE}.csv')"
   ]
  },
  {
   "cell_type": "markdown",
   "id": "01a1d715-bce3-489b-8e38-46be3e18910c",
   "metadata": {
    "tags": []
   },
   "source": [
    "# Match article to input"
   ]
  },
  {
   "cell_type": "markdown",
   "id": "4c1ba79b-2ac2-4cef-ab60-8469f731fe72",
   "metadata": {},
   "source": [
    "## Train sentence transformer on corpus and store model"
   ]
  },
  {
   "cell_type": "code",
   "execution_count": 20,
   "id": "aa28f191-63fc-493d-93af-a84db83899d2",
   "metadata": {},
   "outputs": [],
   "source": [
    "embedder = SentenceTransformer('all-MiniLM-L6-v2', device=device)\n",
    "corpus = df[\"title\"]+df[\"text\"]\n",
    "corpus_embeddings = embedder.encode(corpus, convert_to_tensor=True)\n",
    "corpus_embeddings.shape\n",
    "\n",
    "torch.save(corpus_embeddings, f'corpus_embeddings_{CORPUS_TO_USE}.pt')\n"
   ]
  },
  {
   "cell_type": "markdown",
   "id": "3977ff82-d01c-40a3-87b1-1f73ff4d9494",
   "metadata": {},
   "source": [
    "## Load model"
   ]
  },
  {
   "cell_type": "code",
   "execution_count": null,
   "id": "327cd97f-11f9-48b9-9751-17ec1c4e6c8a",
   "metadata": {},
   "outputs": [],
   "source": [
    "corpus_embeddingsLoaded = torch.load(f'corpus_embeddings_{CORPUS_TO_USE}.pt')"
   ]
  },
  {
   "cell_type": "code",
   "execution_count": null,
   "id": "499cf4a2-c94a-4750-be9d-22757b16e4bc",
   "metadata": {},
   "outputs": [],
   "source": [
    "query = 'what is the metric used in k means'\n",
    "query_embedding = embedder.encode(query, convert_to_tensor=True)\n",
    "\n",
    "top_k = 10\n",
    "\n",
    "hits = util.semantic_search(query_embedding, corpus_embeddingsLoaded, top_k=top_k)\n",
    "hits_idx = list(map(lambda x: x['corpus_id'], hits[0]))\n",
    "\n",
    "for hit in hits:\n",
    "    hit_id = hit ['corpus_id']\n",
    "    article_data = df.iloc[hit_id]\n",
    "    title = article_data ['title']\n",
    "    print (\"-\", title, hit ['score'], hit_id)"
   ]
  },
  {
   "cell_type": "code",
   "execution_count": null,
   "id": "3cbe030e-573e-47b6-b84c-e501972e9415",
   "metadata": {},
   "outputs": [],
   "source": [
    "query_test = 'what is the metric used in k means'\n",
    "get_related_articles_top_k(query=query_test,\n",
    "                           corpus=df,\n",
    "                           model=corpus_embeddingsLoaded,\n",
    "                           embedder=embedder,\n",
    "                           top_k=7\n",
    "                          )"
   ]
  },
  {
   "cell_type": "markdown",
   "id": "1a8baece-e9ed-425b-95d3-6bd5022d26a0",
   "metadata": {
    "tags": []
   },
   "source": [
    "# Ask Questions on specific text"
   ]
  },
  {
   "cell_type": "markdown",
   "id": "bafb8113-9982-45b3-a104-f00cc0560564",
   "metadata": {},
   "source": [
    "## Distilbert - max 512 words"
   ]
  },
  {
   "cell_type": "code",
   "execution_count": null,
   "id": "345058b6-f931-42b0-8fde-549b451c0e29",
   "metadata": {},
   "outputs": [],
   "source": [
    "tokenizer = AutoTokenizer.from_pretrained(\"distilbert-base-uncased-distilled-squad\")\n",
    "\n",
    "model = AutoModelForQuestionAnswering.from_pretrained(\"distilbert-base-uncased-distilled-squad\")"
   ]
  },
  {
   "cell_type": "markdown",
   "id": "f4ca4143-6ab9-44da-b5bc-b6b407e210c6",
   "metadata": {
    "tags": []
   },
   "source": [
    "## Distilbert - Demo"
   ]
  },
  {
   "cell_type": "code",
   "execution_count": null,
   "id": "e9c3d804-342b-47ee-bc5d-4f78c01dfdc9",
   "metadata": {},
   "outputs": [],
   "source": [
    "page_title = input('wikipedia page title:')\n",
    "page_py = wiki_wiki.page(page_title)\n",
    "if not page_py.exists():\n",
    "    print('page does not exist')\n",
    "else:\n",
    "    print('\\npage title:', page_py.title)\n",
    "    print('\\nsummary:\\n')\n",
    "    print(page_py.summary)\n"
   ]
  },
  {
   "cell_type": "code",
   "execution_count": null,
   "id": "11542e3a-5e11-4bba-94e9-b0c8aa26878d",
   "metadata": {},
   "outputs": [],
   "source": [
    "question = input('question:\\n')\n",
    "distilbert_ask(question, page_py.summary, tokenizer=tokenizer, model=model)"
   ]
  },
  {
   "cell_type": "markdown",
   "id": "98f2740f-a837-40ca-89d9-7223c690bdb9",
   "metadata": {},
   "source": [
    "## Longformer"
   ]
  },
  {
   "cell_type": "code",
   "execution_count": null,
   "id": "1590c182-ec0c-412b-ac53-2563fdfb39fb",
   "metadata": {},
   "outputs": [],
   "source": [
    "input_ids"
   ]
  },
  {
   "cell_type": "code",
   "execution_count": null,
   "id": "5d2dbe25-a916-4381-b070-7931fcb4663e",
   "metadata": {},
   "outputs": [],
   "source": [
    "tokenizer.encode(text)"
   ]
  },
  {
   "cell_type": "code",
   "execution_count": null,
   "id": "f69f2538-8f11-4855-8690-00a334b1070d",
   "metadata": {},
   "outputs": [],
   "source": [
    "encoding = tokenizer(question, page_py.text, return_tensors=\"pt\") #\n",
    "input_ids = encoding[\"input_ids\"]"
   ]
  },
  {
   "cell_type": "code",
   "execution_count": null,
   "id": "71532b99-4213-45e2-8bbf-f7280a413e96",
   "metadata": {},
   "outputs": [],
   "source": [
    "\n",
    "question, text = \"Who was Jim Henson?\", \"Jim Henson was a nice puppet\"\n",
    "encoding = tokenizer(question, text, return_tensors=\"pt\", max_length=512) #\n",
    "input_ids = encoding[\"input_ids\"]"
   ]
  },
  {
   "cell_type": "code",
   "execution_count": null,
   "id": "09f4a73e-5ba1-4990-a41c-ebb7aac034cd",
   "metadata": {},
   "outputs": [],
   "source": [
    "from transformers import LongformerTokenizer, LongformerForQuestionAnswering\n",
    "import torch\n",
    "\n",
    "tokenizer = LongformerTokenizer.from_pretrained(\"allenai/longformer-large-4096-finetuned-triviaqa\")\n",
    "model = LongformerForQuestionAnswering.from_pretrained(\"allenai/longformer-large-4096-finetuned-triviaqa\")\n",
    "\n",
    "question, text = \"Who was Jim Henson?\", \"Jim Henson was a nice puppet\"\n",
    "encoding = tokenizer(question, text, return_tensors=\"pt\", max_length=512) #\n",
    "input_ids = encoding[\"input_ids\"]\n",
    "\n",
    "# default is local attention everywhere\n",
    "# the forward method will automatically set global attention on question tokens\n",
    "attention_mask = encoding[\"attention_mask\"]\n",
    "\n",
    "outputs = model(input_ids, attention_mask=attention_mask)\n",
    "start_logits = outputs.start_logits\n",
    "end_logits = outputs.end_logits\n",
    "all_tokens = tokenizer.convert_ids_to_tokens(input_ids[0].tolist())\n",
    "\n",
    "answer_tokens = all_tokens[torch.argmax(start_logits) : torch.argmax(end_logits) + 1]\n",
    "answer = tokenizer.decode(\n",
    "    tokenizer.convert_tokens_to_ids(answer_tokens)\n",
    ")  # remove space prepending space token"
   ]
  },
  {
   "cell_type": "code",
   "execution_count": null,
   "id": "49f67c57-660d-4c45-a57f-a0bfec4f2930",
   "metadata": {},
   "outputs": [],
   "source": [
    "tokenizer = LongformerTokenizer.from_pretrained(\"allenai/longformer-large-4096-finetuned-triviaqa\")\n",
    "model = LongformerForQuestionAnswering.from_pretrained(\"allenai/longformer-large-4096-finetuned-triviaqa\")\n",
    "\n",
    "def longformer_ask(question, text, tokenizer, model):\n",
    "    encoding = tokenizer(question, text, return_tensors=\"pt\") #\n",
    "    input_ids = encoding[\"input_ids\"]\n",
    "\n",
    "\n",
    "    with torch.no_grad():\n",
    "        outputs = model(input_ids)\n",
    "\n",
    "    start_logits = outputs.start_logits\n",
    "    end_logits = outputs.end_logits\n",
    "    all_tokens = tokenizer.convert_ids_to_tokens(input_ids[0].tolist())\n",
    "\n",
    "    answer_tokens = all_tokens[torch.argmax(start_logits) : torch.argmax(end_logits) + 1]\n",
    "    answer = tokenizer.decode(\n",
    "        tokenizer.convert_tokens_to_ids(answer_tokens)\n",
    "    )  # remove space prepending space token\n",
    "    return answer\n",
    "\n",
    "longformer_ask('which metric?', page_py.text, tokenizer, model)"
   ]
  },
  {
   "cell_type": "code",
   "execution_count": null,
   "id": "7a64ef66-ddcb-4f52-ae23-d10dc19d6ec5",
   "metadata": {},
   "outputs": [],
   "source": [
    "answer"
   ]
  },
  {
   "cell_type": "markdown",
   "id": "84a87fef-b747-44ad-a82b-fa2d3746c754",
   "metadata": {
    "tags": []
   },
   "source": [
    "# WikiAI"
   ]
  },
  {
   "cell_type": "markdown",
   "id": "9a098046-c6fb-45d3-ade1-7b988ee94792",
   "metadata": {},
   "source": [
    "## WikiAI Setup"
   ]
  },
  {
   "cell_type": "code",
   "execution_count": 21,
   "id": "61c61434-7ce4-4450-89eb-0e0f9a344be0",
   "metadata": {},
   "outputs": [],
   "source": [
    "CORPUS_TO_USE = 'curated'\n",
    "\n",
    "# related articles\n",
    "corpus_df = pd.read_csv(f'corpus_wikipedia_{CORPUS_TO_USE}.csv', index_col=0)\n",
    "corpus_embeddingsLoaded = torch.load(f'corpus_embeddings_{CORPUS_TO_USE}.pt')\n",
    "embedder = SentenceTransformer('all-MiniLM-L6-v2', device=device)\n",
    "\n",
    "# question asking\n",
    "tokenizer = AutoTokenizer.from_pretrained(\"distilbert-base-uncased-distilled-squad\")\n",
    "question_model = AutoModelForQuestionAnswering.from_pretrained(\"distilbert-base-uncased-distilled-squad\")\n",
    "\n",
    "question_models = {\n",
    "    'distillbert': {'model': question_model, 'tokenizer': tokenizer, 'max_words': 512},\n",
    "    \n",
    "}"
   ]
  },
  {
   "cell_type": "markdown",
   "id": "8fcbccaa-5ee9-4531-a4b1-7cf80cda28f7",
   "metadata": {},
   "source": [
    "## Single run test"
   ]
  },
  {
   "cell_type": "code",
   "execution_count": 22,
   "id": "ad6b3d0c-e970-4902-a05a-fca7a9d6cb78",
   "metadata": {},
   "outputs": [],
   "source": [
    "related, results = \\\n",
    "    ask_question('what is k-means metric?',\n",
    "                 related_articles_model=corpus_embeddingsLoaded,\n",
    "                 related_articles_embedder=embedder,\n",
    "                 related_articles_corpus=corpus_df,\n",
    "                 question_models=question_models,\n",
    "                 question_tokenizer=tokenizer,\n",
    "                 related_articles_top_k= 10,\n",
    "                )"
   ]
  },
  {
   "cell_type": "code",
   "execution_count": 23,
   "id": "d64c825d-8c92-4335-b9c5-49c12cd94db5",
   "metadata": {},
   "outputs": [],
   "source": [
    "mask = results['distillbert'] == ''\n",
    "mask |= results['distillbert'] == '[SEP]'\n",
    "mask |= results['distillbert'] == '[CLS]'\n",
    "mask = ~mask"
   ]
  },
  {
   "cell_type": "code",
   "execution_count": 24,
   "id": "b14d930b-d29a-47ac-8a5f-ddb5ff2106c1",
   "metadata": {},
   "outputs": [
    {
     "data": {
      "text/html": [
       "<div>\n",
       "<style scoped>\n",
       "    .dataframe tbody tr th:only-of-type {\n",
       "        vertical-align: middle;\n",
       "    }\n",
       "\n",
       "    .dataframe tbody tr th {\n",
       "        vertical-align: top;\n",
       "    }\n",
       "\n",
       "    .dataframe thead th {\n",
       "        text-align: right;\n",
       "    }\n",
       "</style>\n",
       "<table border=\"1\" class=\"dataframe\">\n",
       "  <thead>\n",
       "    <tr style=\"text-align: right;\">\n",
       "      <th></th>\n",
       "      <th>article title</th>\n",
       "      <th>article summary</th>\n",
       "      <th>distillbert</th>\n",
       "    </tr>\n",
       "  </thead>\n",
       "  <tbody>\n",
       "    <tr>\n",
       "      <th>48</th>\n",
       "      <td>K-medians clustering</td>\n",
       "      <td>In statistics, k-medians clustering is a clust...</td>\n",
       "      <td>squared 2 - norm distance metric</td>\n",
       "    </tr>\n",
       "    <tr>\n",
       "      <th>50</th>\n",
       "      <td>K-SVD</td>\n",
       "      <td>In applied mathematics, K-SVD is a dictionary ...</td>\n",
       "      <td>clustering method</td>\n",
       "    </tr>\n",
       "    <tr>\n",
       "      <th>47</th>\n",
       "      <td>K-means++</td>\n",
       "      <td>In data mining, k-means++ is an algorithm for ...</td>\n",
       "      <td>an algorithm for choosing the initial values (...</td>\n",
       "    </tr>\n",
       "    <tr>\n",
       "      <th>26</th>\n",
       "      <td>Automatic clustering algorithms</td>\n",
       "      <td>Automatic clustering algorithms are algorithms...</td>\n",
       "      <td>clustering</td>\n",
       "    </tr>\n",
       "    <tr>\n",
       "      <th>75</th>\n",
       "      <td>k-nearest neighbors algorithm</td>\n",
       "      <td>In statistics, the k-nearest neighbors algorit...</td>\n",
       "      <td>k - nearest neighbors algorithm</td>\n",
       "    </tr>\n",
       "    <tr>\n",
       "      <th>36</th>\n",
       "      <td>Data stream clustering</td>\n",
       "      <td>In computer science, data stream clustering is...</td>\n",
       "      <td>data stream clustering</td>\n",
       "    </tr>\n",
       "    <tr>\n",
       "      <th>45</th>\n",
       "      <td>K q-flats</td>\n",
       "      <td>In data mining and machine learning, \\n  \\n   ...</td>\n",
       "      <td>k { \\ displaystyle k } - means algorithm</td>\n",
       "    </tr>\n",
       "  </tbody>\n",
       "</table>\n",
       "</div>"
      ],
      "text/plain": [
       "                      article title  \\\n",
       "48             K-medians clustering   \n",
       "50                            K-SVD   \n",
       "47                        K-means++   \n",
       "26  Automatic clustering algorithms   \n",
       "75    k-nearest neighbors algorithm   \n",
       "36           Data stream clustering   \n",
       "45                        K q-flats   \n",
       "\n",
       "                                      article summary  \\\n",
       "48  In statistics, k-medians clustering is a clust...   \n",
       "50  In applied mathematics, K-SVD is a dictionary ...   \n",
       "47  In data mining, k-means++ is an algorithm for ...   \n",
       "26  Automatic clustering algorithms are algorithms...   \n",
       "75  In statistics, the k-nearest neighbors algorit...   \n",
       "36  In computer science, data stream clustering is...   \n",
       "45  In data mining and machine learning, \\n  \\n   ...   \n",
       "\n",
       "                                          distillbert  \n",
       "48                   squared 2 - norm distance metric  \n",
       "50                                  clustering method  \n",
       "47  an algorithm for choosing the initial values (...  \n",
       "26                                         clustering  \n",
       "75                    k - nearest neighbors algorithm  \n",
       "36                             data stream clustering  \n",
       "45           k { \\ displaystyle k } - means algorithm  "
      ]
     },
     "execution_count": 24,
     "metadata": {},
     "output_type": "execute_result"
    }
   ],
   "source": [
    "results[mask]"
   ]
  },
  {
   "cell_type": "markdown",
   "id": "c30c1b8e-2b6e-4d11-9334-7fb82de821fd",
   "metadata": {},
   "source": [
    "## Model served with Gradio"
   ]
  },
  {
   "cell_type": "code",
   "execution_count": 30,
   "id": "889801c2-dcc4-404a-96a8-8fd1b0d577be",
   "metadata": {},
   "outputs": [],
   "source": [
    "def question_answer(question):\n",
    "    related, results = \\\n",
    "        ask_question(question,\n",
    "                     related_articles_model=corpus_embeddingsLoaded,\n",
    "                     related_articles_embedder=embedder,\n",
    "                     related_articles_corpus=corpus_df,\n",
    "                     question_models=question_models,\n",
    "                     question_tokenizer=tokenizer,\n",
    "                     related_articles_top_k= 10,\n",
    "                    )\n",
    "    \n",
    "    mask = results['distillbert'] == ''\n",
    "    mask |= results['distillbert'] == '[SEP]'\n",
    "    mask |= results['distillbert'] == '[CLS]'\n",
    "    mask = ~mask\n",
    "    \n",
    "    results = results[mask]\n",
    "    return results[['article title', 'distillbert']]\n",
    "\n",
    "gr_interface = gr.Interface(fn=question_answer, inputs=[ \"text\"], outputs=[\"dataframe\"])"
   ]
  },
  {
   "cell_type": "code",
   "execution_count": 32,
   "id": "3e6789fa-f9ef-4d29-b183-cc7ff58c50e9",
   "metadata": {},
   "outputs": [
    {
     "name": "stdout",
     "output_type": "stream",
     "text": [
      "error during distilbert_ask\n"
     ]
    },
    {
     "data": {
      "text/html": [
       "<div>\n",
       "<style scoped>\n",
       "    .dataframe tbody tr th:only-of-type {\n",
       "        vertical-align: middle;\n",
       "    }\n",
       "\n",
       "    .dataframe tbody tr th {\n",
       "        vertical-align: top;\n",
       "    }\n",
       "\n",
       "    .dataframe thead th {\n",
       "        text-align: right;\n",
       "    }\n",
       "</style>\n",
       "<table border=\"1\" class=\"dataframe\">\n",
       "  <thead>\n",
       "    <tr style=\"text-align: right;\">\n",
       "      <th></th>\n",
       "      <th>article title</th>\n",
       "      <th>distillbert</th>\n",
       "    </tr>\n",
       "  </thead>\n",
       "  <tbody>\n",
       "    <tr>\n",
       "      <th>1</th>\n",
       "      <td>Natural language processing</td>\n",
       "      <td>natural language processing ( nlp ) is a subfi...</td>\n",
       "    </tr>\n",
       "    <tr>\n",
       "      <th>40</th>\n",
       "      <td>Fuzzy clustering</td>\n",
       "      <td>each data point can belong to more than one cl...</td>\n",
       "    </tr>\n",
       "    <tr>\n",
       "      <th>73</th>\n",
       "      <td>Artificial neural network</td>\n",
       "      <td>an ann is based on a collection of connected u...</td>\n",
       "    </tr>\n",
       "    <tr>\n",
       "      <th>39</th>\n",
       "      <td>FLAME clustering</td>\n",
       "      <td>fuzzy clustering by local approximation of mem...</td>\n",
       "    </tr>\n",
       "    <tr>\n",
       "      <th>17</th>\n",
       "      <td>Cluster analysis</td>\n",
       "      <td>exploratory data analysis</td>\n",
       "    </tr>\n",
       "    <tr>\n",
       "      <th>3</th>\n",
       "      <td>Supervised learning</td>\n",
       "      <td>supervised learning</td>\n",
       "    </tr>\n",
       "    <tr>\n",
       "      <th>8</th>\n",
       "      <td>Federated learning</td>\n",
       "      <td>enables multiple actors to build a common, rob...</td>\n",
       "    </tr>\n",
       "  </tbody>\n",
       "</table>\n",
       "</div>"
      ],
      "text/plain": [
       "                  article title  \\\n",
       "1   Natural language processing   \n",
       "40             Fuzzy clustering   \n",
       "73    Artificial neural network   \n",
       "39             FLAME clustering   \n",
       "17             Cluster analysis   \n",
       "3           Supervised learning   \n",
       "8            Federated learning   \n",
       "\n",
       "                                          distillbert  \n",
       "1   natural language processing ( nlp ) is a subfi...  \n",
       "40  each data point can belong to more than one cl...  \n",
       "73  an ann is based on a collection of connected u...  \n",
       "39  fuzzy clustering by local approximation of mem...  \n",
       "17                          exploratory data analysis  \n",
       "3                                 supervised learning  \n",
       "8   enables multiple actors to build a common, rob...  "
      ]
     },
     "execution_count": 32,
     "metadata": {},
     "output_type": "execute_result"
    }
   ],
   "source": [
    "question_answer('what is love?')"
   ]
  },
  {
   "cell_type": "code",
   "execution_count": 33,
   "id": "4442c313-0639-4775-8b4a-0dab4df2df16",
   "metadata": {},
   "outputs": [
    {
     "name": "stdout",
     "output_type": "stream",
     "text": [
      "Running on local URL:  http://127.0.0.1:7860/\n",
      "\n",
      "To create a public link, set `share=True` in `launch()`.\n"
     ]
    },
    {
     "data": {
      "text/html": [
       "<div><iframe src=\"http://127.0.0.1:7860/\" width=\"900\" height=\"500\" allow=\"autoplay; camera; microphone;\" frameborder=\"0\" allowfullscreen></iframe></div>"
      ],
      "text/plain": [
       "<IPython.core.display.HTML object>"
      ]
     },
     "metadata": {},
     "output_type": "display_data"
    },
    {
     "data": {
      "text/plain": [
       "(<gradio.routes.App at 0x7f1720db8a00>, 'http://127.0.0.1:7860/', None)"
      ]
     },
     "execution_count": 33,
     "metadata": {},
     "output_type": "execute_result"
    },
    {
     "name": "stdout",
     "output_type": "stream",
     "text": [
      "error during distilbert_ask\n",
      "error during distilbert_ask\n",
      "error during distilbert_ask\n",
      "error during distilbert_ask\n",
      "error during distilbert_ask\n",
      "error during distilbert_ask\n",
      "error during distilbert_ask\n",
      "error during distilbert_ask\n",
      "error during distilbert_ask\n",
      "error during distilbert_ask\n",
      "error during distilbert_ask\n",
      "error during distilbert_ask\n"
     ]
    }
   ],
   "source": [
    "gr_interface.launch(server_port=7860)"
   ]
  },
  {
   "cell_type": "code",
   "execution_count": null,
   "id": "7d8fb65f-6f4f-4f4d-babc-3f4c0032d111",
   "metadata": {},
   "outputs": [],
   "source": [
    "gr.close_all()\n",
    "gr_interface.close()"
   ]
  }
 ],
 "metadata": {
  "kernelspec": {
   "display_name": "Python 3 (ipykernel)",
   "language": "python",
   "name": "python3"
  },
  "language_info": {
   "codemirror_mode": {
    "name": "ipython",
    "version": 3
   },
   "file_extension": ".py",
   "mimetype": "text/x-python",
   "name": "python",
   "nbconvert_exporter": "python",
   "pygments_lexer": "ipython3",
   "version": "3.8.10"
  }
 },
 "nbformat": 4,
 "nbformat_minor": 5
}
