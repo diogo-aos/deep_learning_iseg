{
 "cells": [
  {
   "cell_type": "markdown",
   "id": "8b98bb96-89b6-4055-80f8-089c8643bd6c",
   "metadata": {},
   "source": [
    "- Models\n",
    "    - distilbert\n",
    "        - https://huggingface.co/distilbert-base-uncased-distilled-squad\n",
    "        - word count restricted to 512\n",
    "        - appropriate for page summaries\n",
    "    - look into\n",
    "        - longform\n",
    "            - https://medium.com/dair-ai/longformer-what-bert-should-have-been-78f4cd595be9\n",
    "    - model open directory\n",
    "        - https://huggingface.co/"
   ]
  },
  {
   "cell_type": "markdown",
   "id": "c4c108b1-b897-455e-af13-604e347bb46c",
   "metadata": {},
   "source": [
    "# Setup"
   ]
  },
  {
   "cell_type": "code",
   "execution_count": 262,
   "id": "fb1c037d-237f-4db7-8323-2bc8b0afb2ea",
   "metadata": {},
   "outputs": [],
   "source": [
    "# for distilbert - answer questions\n",
    "from transformers import AutoTokenizer, AutoModelForQuestionAnswering\n",
    "import torch\n",
    "\n",
    "# for choosing the correct article to answer question\n",
    "from sentence_transformers import SentenceTransformer, util\n",
    "\n",
    "\n",
    "# for getting wikipedia articles\n",
    "import wikipediaapi\n",
    "wiki_wiki = wikipediaapi.Wikipedia('en')\n",
    "\n",
    "# data\n",
    "import pandas as pd\n",
    "\n",
    "\n",
    "# utils\n",
    "import tqdm"
   ]
  },
  {
   "cell_type": "code",
   "execution_count": 199,
   "id": "96c51523-f4cd-442a-8793-abed03f9cdbe",
   "metadata": {},
   "outputs": [
    {
     "data": {
      "text/plain": [
       "device(type='cuda', index=1)"
      ]
     },
     "execution_count": 199,
     "metadata": {},
     "output_type": "execute_result"
    }
   ],
   "source": [
    "device = torch.device(\"cuda:1\" if torch.cuda.is_available() else \"cpu\")\n",
    "device"
   ]
  },
  {
   "cell_type": "markdown",
   "id": "98241bf5-94c3-4a8d-824f-95a2425878b3",
   "metadata": {
    "tags": []
   },
   "source": [
    "# Data input"
   ]
  },
  {
   "cell_type": "markdown",
   "id": "c15cc5bd-fc67-443e-956d-58d0b994f7ba",
   "metadata": {},
   "source": [
    "## Curated collection"
   ]
  },
  {
   "cell_type": "code",
   "execution_count": 350,
   "id": "47908907-b74d-43f9-b918-c44ae0bd8cde",
   "metadata": {},
   "outputs": [],
   "source": [
    "# compile corpus\n",
    "curated_pages = '''\n",
    "Artificial intelligence\n",
    "Natural language processing\n",
    "Deep learning\n",
    "Supervised learning\n",
    "Semi-supervised learning\n",
    "Unsupervised learning\n",
    "Statistical classification\n",
    "Regression analysis\n",
    "Federated learning\n",
    "k-anonymity\n",
    "Data anonymization\n",
    "k-means clustering\n",
    "DBSCAN\n",
    "Dimensionality reduction\n",
    "Silhouette (clustering)\n",
    "Davies–Bouldin index\n",
    "Multidimensional scaling\n",
    "Cluster analysis\n",
    "Principal component analysis\n",
    "Isolation forest\n",
    "Unsupervised learning\n",
    "Hierarchical clustering\n",
    "Local outlier factor\n",
    "Kaiser–Meyer–Olkin test\n",
    "Bartlett's test\n",
    "\n",
    "Affinity propagation\n",
    "Automatic clustering algorithms\n",
    "BFR algorithm\n",
    "BIRCH\n",
    "Canopy clustering algorithm\n",
    "Chinese whispers (clustering method)\n",
    "Cluster-weighted modeling\n",
    "Cobweb (clustering)\n",
    "Complete-linkage clustering\n",
    "Constrained clustering\n",
    "CURE algorithm\n",
    "Data stream clustering\n",
    "DBSCAN\n",
    "Expectation–maximization algorithm\n",
    "FLAME clustering\n",
    "Fuzzy clustering\n",
    "Hierarchical clustering\n",
    "Hoshen–Kopelman algorithm\n",
    "Information bottleneck method\n",
    "Jenks natural breaks optimization\n",
    "K q-flats\n",
    "K-means clustering\n",
    "K-means++\n",
    "K-medians clustering\n",
    "K-medoids\n",
    "K-SVD\n",
    "Linde–Buzo–Gray algorithm\n",
    "Low-energy adaptive clustering hierarchy\n",
    "Mean shift\n",
    "Nearest-neighbor chain algorithm\n",
    "Neighbor joining\n",
    "OPTICS algorithm\n",
    "Pitman–Yor process\n",
    "Quantum clustering\n",
    "Self-organizing map\n",
    "SimRank\n",
    "Single-linkage clustering\n",
    "Spectral clustering\n",
    "SUBCLU\n",
    "UPGMA\n",
    "Ward's method\n",
    "WPGMA\n",
    "\n",
    "\n",
    "\n",
    "Support-vector machine\n",
    "Boosting (machine learning)\n",
    "Random forest\n",
    "Linear regression\n",
    "Logistic regression\n",
    "Naive Bayes classifier\n",
    "Artificial neural network\n",
    "Perceptron\n",
    "k-nearest neighbors algorithm\n",
    "Semi-supervised learning\n",
    "Ensemble learning\n",
    "Bootstrap aggregating\n",
    "\n",
    "\n",
    "\n",
    "'''\n",
    "\n",
    "curated_pages = curated_pages.strip().splitlines()  # string to list of strings\n",
    "curated_pages = [p for p in curated_pages if p.strip() != '']  # remove blank lines"
   ]
  },
  {
   "cell_type": "markdown",
   "id": "79d9666b-1e44-4a3b-b741-a99af5c5d803",
   "metadata": {
    "tags": []
   },
   "source": [
    "## Collect all pages under Machine learning"
   ]
  },
  {
   "cell_type": "code",
   "execution_count": 228,
   "id": "a6d8a062-4225-4d5c-8274-bd79da44fe41",
   "metadata": {},
   "outputs": [],
   "source": [
    "cats_open = ['Category:Machine learning']\n",
    "cats_close = []\n",
    "all_pages = []\n",
    "while len(cats_open) > 0:\n",
    "    c = cats_open.pop()\n",
    "    if c in cats_close:\n",
    "        continue\n",
    "    cats_close.append(c)\n",
    "    cat = wiki_wiki.page(c)\n",
    "    members = list(cat.categorymembers.keys())\n",
    "    subcats = filter(lambda m: 'Category:' in m, members)\n",
    "    pages = filter(lambda m: 'Category:' not in m, members)\n",
    "    all_pages.extend(pages)\n",
    "    cats_open.extend(subcats)\n",
    "    \n",
    "# remove duplicates\n",
    "auto_pages = []\n",
    "for p in all_pages:\n",
    "    if p not in auto_pages:\n",
    "        auto_pages.append(p)\n"
   ]
  },
  {
   "cell_type": "markdown",
   "id": "1192aebd-ba7d-4622-a510-0d561c148ea4",
   "metadata": {},
   "source": [
    "## Prepare dataset"
   ]
  },
  {
   "cell_type": "code",
   "execution_count": 304,
   "id": "aae16978-67c4-4110-a5a4-bac04d30e3bc",
   "metadata": {},
   "outputs": [],
   "source": [
    "CORPUS_TO_USE = 'auto'"
   ]
  },
  {
   "cell_type": "code",
   "execution_count": 351,
   "id": "2e9936fa-c666-4823-b806-45780bf8df4f",
   "metadata": {},
   "outputs": [],
   "source": [
    "corpus_types = {'curated': curated_pages,\n",
    "                'auto': auto_pages}"
   ]
  },
  {
   "cell_type": "code",
   "execution_count": 306,
   "id": "80cb1179-0fcd-4661-8518-d90273a93bec",
   "metadata": {},
   "outputs": [],
   "source": [
    "wikipedia_pages = corpus_types[CORPUS_TO_USE]"
   ]
  },
  {
   "cell_type": "code",
   "execution_count": 356,
   "id": "aa373184-364c-4676-ae5d-db88241511f6",
   "metadata": {},
   "outputs": [],
   "source": [
    "df = pd.DataFrame({'title_input': wikipedia_pages})\n",
    "df['title'] = ''\n",
    "df['summary'] = ''\n",
    "df['text'] = ''"
   ]
  },
  {
   "cell_type": "code",
   "execution_count": 413,
   "id": "34066d75-6187-4a32-9b37-0b595a07cdf1",
   "metadata": {},
   "outputs": [
    {
     "name": "stderr",
     "output_type": "stream",
     "text": [
      "100%|████████████████████████████████████████████████████████████████████████████████████████████████████████████| 1526/1526 [05:10<00:00,  4.91it/s]\n"
     ]
    },
    {
     "data": {
      "text/html": [
       "<div>\n",
       "<style scoped>\n",
       "    .dataframe tbody tr th:only-of-type {\n",
       "        vertical-align: middle;\n",
       "    }\n",
       "\n",
       "    .dataframe tbody tr th {\n",
       "        vertical-align: top;\n",
       "    }\n",
       "\n",
       "    .dataframe thead th {\n",
       "        text-align: right;\n",
       "    }\n",
       "</style>\n",
       "<table border=\"1\" class=\"dataframe\">\n",
       "  <thead>\n",
       "    <tr style=\"text-align: right;\">\n",
       "      <th></th>\n",
       "      <th>title_input</th>\n",
       "      <th>title</th>\n",
       "      <th>summary</th>\n",
       "      <th>text</th>\n",
       "    </tr>\n",
       "  </thead>\n",
       "  <tbody>\n",
       "    <tr>\n",
       "      <th>0</th>\n",
       "      <td>Bayesian learning mechanisms</td>\n",
       "      <td>Bayesian learning mechanisms</td>\n",
       "      <td>Bayesian learning mechanisms are probabilistic...</td>\n",
       "      <td>Bayesian learning mechanisms are probabilistic...</td>\n",
       "    </tr>\n",
       "    <tr>\n",
       "      <th>1</th>\n",
       "      <td>Machine learning</td>\n",
       "      <td>Machine learning</td>\n",
       "      <td>Machine learning (ML) is a field of inquiry de...</td>\n",
       "      <td>Machine learning (ML) is a field of inquiry de...</td>\n",
       "    </tr>\n",
       "    <tr>\n",
       "      <th>2</th>\n",
       "      <td>List of datasets for machine-learning research</td>\n",
       "      <td>List of datasets for machine-learning research</td>\n",
       "      <td>These datasets are applied for machine learnin...</td>\n",
       "      <td>These datasets are applied for machine learnin...</td>\n",
       "    </tr>\n",
       "    <tr>\n",
       "      <th>3</th>\n",
       "      <td>Outline of machine learning</td>\n",
       "      <td>Outline of machine learning</td>\n",
       "      <td>The following outline is provided as an overvi...</td>\n",
       "      <td>The following outline is provided as an overvi...</td>\n",
       "    </tr>\n",
       "    <tr>\n",
       "      <th>4</th>\n",
       "      <td>80 Million Tiny Images</td>\n",
       "      <td>80 Million Tiny Images</td>\n",
       "      <td>80 Million Tiny Images is a dataset intended f...</td>\n",
       "      <td>80 Million Tiny Images is a dataset intended f...</td>\n",
       "    </tr>\n",
       "    <tr>\n",
       "      <th>...</th>\n",
       "      <td>...</td>\n",
       "      <td>...</td>\n",
       "      <td>...</td>\n",
       "      <td>...</td>\n",
       "    </tr>\n",
       "    <tr>\n",
       "      <th>1521</th>\n",
       "      <td>Fan Hui</td>\n",
       "      <td>Fan Hui</td>\n",
       "      <td>Fan Hui (Chinese: 樊麾; pinyin: Fán Huī; born 27...</td>\n",
       "      <td>Fan Hui (Chinese: 樊麾; pinyin: Fán Huī; born 27...</td>\n",
       "    </tr>\n",
       "    <tr>\n",
       "      <th>1522</th>\n",
       "      <td>Future of Go Summit</td>\n",
       "      <td>Future of Go Summit</td>\n",
       "      <td>The Future of Go Summit (Chinese: 中国乌镇围棋峰会) wa...</td>\n",
       "      <td>The Future of Go Summit (Chinese: 中国乌镇围棋峰会) wa...</td>\n",
       "    </tr>\n",
       "    <tr>\n",
       "      <th>1523</th>\n",
       "      <td>Aja Huang</td>\n",
       "      <td>Aja Huang</td>\n",
       "      <td>Aja Huang (Chinese: 黃士傑; pinyin: Huáng Shìjié;...</td>\n",
       "      <td>Aja Huang (Chinese: 黃士傑; pinyin: Huáng Shìjié;...</td>\n",
       "    </tr>\n",
       "    <tr>\n",
       "      <th>1524</th>\n",
       "      <td>Master (software)</td>\n",
       "      <td>Master (software)</td>\n",
       "      <td>Master is a version of DeepMind's Go software ...</td>\n",
       "      <td>Master is a version of DeepMind's Go software ...</td>\n",
       "    </tr>\n",
       "    <tr>\n",
       "      <th>1525</th>\n",
       "      <td>David Silver (computer scientist)</td>\n",
       "      <td>David Silver (computer scientist)</td>\n",
       "      <td>David Silver  (born 1976) leads the reinforcem...</td>\n",
       "      <td>David Silver  (born 1976) leads the reinforcem...</td>\n",
       "    </tr>\n",
       "  </tbody>\n",
       "</table>\n",
       "<p>1526 rows × 4 columns</p>\n",
       "</div>"
      ],
      "text/plain": [
       "                                         title_input  \\\n",
       "0                       Bayesian learning mechanisms   \n",
       "1                                   Machine learning   \n",
       "2     List of datasets for machine-learning research   \n",
       "3                        Outline of machine learning   \n",
       "4                             80 Million Tiny Images   \n",
       "...                                              ...   \n",
       "1521                                         Fan Hui   \n",
       "1522                             Future of Go Summit   \n",
       "1523                                       Aja Huang   \n",
       "1524                               Master (software)   \n",
       "1525               David Silver (computer scientist)   \n",
       "\n",
       "                                               title  \\\n",
       "0                       Bayesian learning mechanisms   \n",
       "1                                   Machine learning   \n",
       "2     List of datasets for machine-learning research   \n",
       "3                        Outline of machine learning   \n",
       "4                             80 Million Tiny Images   \n",
       "...                                              ...   \n",
       "1521                                         Fan Hui   \n",
       "1522                             Future of Go Summit   \n",
       "1523                                       Aja Huang   \n",
       "1524                               Master (software)   \n",
       "1525               David Silver (computer scientist)   \n",
       "\n",
       "                                                summary  \\\n",
       "0     Bayesian learning mechanisms are probabilistic...   \n",
       "1     Machine learning (ML) is a field of inquiry de...   \n",
       "2     These datasets are applied for machine learnin...   \n",
       "3     The following outline is provided as an overvi...   \n",
       "4     80 Million Tiny Images is a dataset intended f...   \n",
       "...                                                 ...   \n",
       "1521  Fan Hui (Chinese: 樊麾; pinyin: Fán Huī; born 27...   \n",
       "1522  The Future of Go Summit (Chinese: 中国乌镇围棋峰会) wa...   \n",
       "1523  Aja Huang (Chinese: 黃士傑; pinyin: Huáng Shìjié;...   \n",
       "1524  Master is a version of DeepMind's Go software ...   \n",
       "1525  David Silver  (born 1976) leads the reinforcem...   \n",
       "\n",
       "                                                   text  \n",
       "0     Bayesian learning mechanisms are probabilistic...  \n",
       "1     Machine learning (ML) is a field of inquiry de...  \n",
       "2     These datasets are applied for machine learnin...  \n",
       "3     The following outline is provided as an overvi...  \n",
       "4     80 Million Tiny Images is a dataset intended f...  \n",
       "...                                                 ...  \n",
       "1521  Fan Hui (Chinese: 樊麾; pinyin: Fán Huī; born 27...  \n",
       "1522  The Future of Go Summit (Chinese: 中国乌镇围棋峰会) wa...  \n",
       "1523  Aja Huang (Chinese: 黃士傑; pinyin: Huáng Shìjié;...  \n",
       "1524  Master is a version of DeepMind's Go software ...  \n",
       "1525  David Silver  (born 1976) leads the reinforcem...  \n",
       "\n",
       "[1526 rows x 4 columns]"
      ]
     },
     "execution_count": 413,
     "metadata": {},
     "output_type": "execute_result"
    }
   ],
   "source": [
    "for idx, line in tqdm.tqdm(df.iterrows(), total=df.shape[0]):\n",
    "    page_py = wiki_wiki.page(line['title_input'])\n",
    "    df.at[idx, 'title'] = page_py.title\n",
    "    df.at[idx, 'text'] = page_py.text\n",
    "    df.at[idx, 'summary'] = page_py.summary\n",
    "    \n",
    "df"
   ]
  },
  {
   "cell_type": "code",
   "execution_count": 416,
   "id": "a5136fa9-25db-42cd-b218-6d21ff9c0564",
   "metadata": {},
   "outputs": [],
   "source": [
    "df.to_csv(f'corpus_wikipedia_{CORPUS_TO_USE}.csv')"
   ]
  },
  {
   "cell_type": "markdown",
   "id": "01a1d715-bce3-489b-8e38-46be3e18910c",
   "metadata": {
    "tags": []
   },
   "source": [
    "# Match article to input"
   ]
  },
  {
   "cell_type": "markdown",
   "id": "4c1ba79b-2ac2-4cef-ab60-8469f731fe72",
   "metadata": {},
   "source": [
    "## Train sentence transformer on corpus and store model"
   ]
  },
  {
   "cell_type": "code",
   "execution_count": 310,
   "id": "aa28f191-63fc-493d-93af-a84db83899d2",
   "metadata": {},
   "outputs": [],
   "source": [
    "embedder = SentenceTransformer('all-MiniLM-L6-v2', device=device)\n",
    "corpus = df[\"title\"]+df[\"text\"]\n",
    "corpus_embeddings = embedder.encode(corpus, convert_to_tensor=True)\n",
    "corpus_embeddings.shape\n",
    "\n",
    "torch.save(corpus_embeddings, f'corpus_embeddings_{CORPUS_TO_USE}.pt')\n"
   ]
  },
  {
   "cell_type": "markdown",
   "id": "3977ff82-d01c-40a3-87b1-1f73ff4d9494",
   "metadata": {},
   "source": [
    "## Load model"
   ]
  },
  {
   "cell_type": "code",
   "execution_count": 315,
   "id": "327cd97f-11f9-48b9-9751-17ec1c4e6c8a",
   "metadata": {},
   "outputs": [],
   "source": [
    "corpus_embeddingsLoaded = torch.load(f'corpus_embeddings_{CORPUS_TO_USE}.pt')"
   ]
  },
  {
   "cell_type": "code",
   "execution_count": 325,
   "id": "499cf4a2-c94a-4750-be9d-22757b16e4bc",
   "metadata": {},
   "outputs": [
    {
     "name": "stdout",
     "output_type": "stream",
     "text": [
      "- Determining the number of clusters in a data set 0.5419691205024719 1203\n",
      "- K-medians clustering 0.5400686264038086 1247\n",
      "- K-medoids 0.5380665063858032 1248\n",
      "- K-SVD 0.49442362785339355 1249\n",
      "- K-means clustering 0.4790186285972595 1245\n",
      "- K-means++ 0.4489384889602661 1246\n",
      "- K-nearest neighbors algorithm 0.43898695707321167 727\n",
      "- Automatic clustering algorithms 0.43277668952941895 1211\n",
      "- Data stream clustering 0.4221004247665405 1236\n",
      "- K q-flats 0.4161999821662903 1244\n"
     ]
    }
   ],
   "source": [
    "query = 'what is the metric used in k means'\n",
    "query_embedding = embedder.encode(query, convert_to_tensor=True)\n",
    "\n",
    "top_k = 10\n",
    "\n",
    "hits = util.semantic_search(query_embedding, corpus_embeddingsLoaded, top_k=top_k)\n",
    "hits_idx = list(map(lambda x: x['corpus_id'], hits[0]))\n",
    "\n",
    "for hit in hits:\n",
    "    hit_id = hit ['corpus_id']\n",
    "    article_data = df.iloc[hit_id]\n",
    "    title = article_data ['title']\n",
    "    print (\"-\", title, hit ['score'], hit_id)"
   ]
  },
  {
   "cell_type": "code",
   "execution_count": 352,
   "id": "dbc7bdf1-641d-4c94-97b5-97ea242c0431",
   "metadata": {},
   "outputs": [],
   "source": [
    "def get_related_articles_top_k(query: str, corpus: pd.DataFrame, embedder, model, top_k: int = 10):\n",
    "    corpus_embeddings_loaded = model\n",
    "    query_embedding = embedder.encode(query, convert_to_tensor=True)\n",
    "    \n",
    "    hits = util.semantic_search(query_embedding, corpus_embeddings_loaded, top_k=top_k)\n",
    "    hits_idx = list(map(lambda x: x['corpus_id'], hits[0]))\n",
    "    \n",
    "    return corpus.iloc[hits_idx]"
   ]
  },
  {
   "cell_type": "code",
   "execution_count": 355,
   "id": "3cbe030e-573e-47b6-b84c-e501972e9415",
   "metadata": {},
   "outputs": [
    {
     "data": {
      "text/html": [
       "<div>\n",
       "<style scoped>\n",
       "    .dataframe tbody tr th:only-of-type {\n",
       "        vertical-align: middle;\n",
       "    }\n",
       "\n",
       "    .dataframe tbody tr th {\n",
       "        vertical-align: top;\n",
       "    }\n",
       "\n",
       "    .dataframe thead th {\n",
       "        text-align: right;\n",
       "    }\n",
       "</style>\n",
       "<table border=\"1\" class=\"dataframe\">\n",
       "  <thead>\n",
       "    <tr style=\"text-align: right;\">\n",
       "      <th></th>\n",
       "      <th>title_input</th>\n",
       "      <th>title</th>\n",
       "      <th>text</th>\n",
       "    </tr>\n",
       "  </thead>\n",
       "  <tbody>\n",
       "    <tr>\n",
       "      <th>1203</th>\n",
       "      <td>Determining the number of clusters in a data set</td>\n",
       "      <td>Determining the number of clusters in a data set</td>\n",
       "      <td>Determining the number of clusters in a data s...</td>\n",
       "    </tr>\n",
       "    <tr>\n",
       "      <th>1247</th>\n",
       "      <td>K-medians clustering</td>\n",
       "      <td>K-medians clustering</td>\n",
       "      <td>In statistics, k-medians clustering is a clust...</td>\n",
       "    </tr>\n",
       "    <tr>\n",
       "      <th>1248</th>\n",
       "      <td>K-medoids</td>\n",
       "      <td>K-medoids</td>\n",
       "      <td>The k-medoids problem is a clustering problem ...</td>\n",
       "    </tr>\n",
       "    <tr>\n",
       "      <th>1249</th>\n",
       "      <td>K-SVD</td>\n",
       "      <td>K-SVD</td>\n",
       "      <td>In applied mathematics, K-SVD is a dictionary ...</td>\n",
       "    </tr>\n",
       "    <tr>\n",
       "      <th>1245</th>\n",
       "      <td>K-means clustering</td>\n",
       "      <td>K-means clustering</td>\n",
       "      <td>k-means clustering is a method of vector quant...</td>\n",
       "    </tr>\n",
       "    <tr>\n",
       "      <th>1246</th>\n",
       "      <td>K-means++</td>\n",
       "      <td>K-means++</td>\n",
       "      <td>In data mining, k-means++ is an algorithm for ...</td>\n",
       "    </tr>\n",
       "    <tr>\n",
       "      <th>727</th>\n",
       "      <td>K-nearest neighbors algorithm</td>\n",
       "      <td>K-nearest neighbors algorithm</td>\n",
       "      <td>In statistics, the k-nearest neighbors algorit...</td>\n",
       "    </tr>\n",
       "  </tbody>\n",
       "</table>\n",
       "</div>"
      ],
      "text/plain": [
       "                                           title_input  \\\n",
       "1203  Determining the number of clusters in a data set   \n",
       "1247                              K-medians clustering   \n",
       "1248                                         K-medoids   \n",
       "1249                                             K-SVD   \n",
       "1245                                K-means clustering   \n",
       "1246                                         K-means++   \n",
       "727                      K-nearest neighbors algorithm   \n",
       "\n",
       "                                                 title  \\\n",
       "1203  Determining the number of clusters in a data set   \n",
       "1247                              K-medians clustering   \n",
       "1248                                         K-medoids   \n",
       "1249                                             K-SVD   \n",
       "1245                                K-means clustering   \n",
       "1246                                         K-means++   \n",
       "727                      K-nearest neighbors algorithm   \n",
       "\n",
       "                                                   text  \n",
       "1203  Determining the number of clusters in a data s...  \n",
       "1247  In statistics, k-medians clustering is a clust...  \n",
       "1248  The k-medoids problem is a clustering problem ...  \n",
       "1249  In applied mathematics, K-SVD is a dictionary ...  \n",
       "1245  k-means clustering is a method of vector quant...  \n",
       "1246  In data mining, k-means++ is an algorithm for ...  \n",
       "727   In statistics, the k-nearest neighbors algorit...  "
      ]
     },
     "execution_count": 355,
     "metadata": {},
     "output_type": "execute_result"
    }
   ],
   "source": [
    "query_test = 'what is the metric used in k means'\n",
    "get_related_articles_top_k(query=query_test,\n",
    "                           corpus=df,\n",
    "                           model=corpus_embeddingsLoaded,\n",
    "                           embedder=embedder,\n",
    "                           top_k=7\n",
    "                          )"
   ]
  },
  {
   "cell_type": "markdown",
   "id": "1a8baece-e9ed-425b-95d3-6bd5022d26a0",
   "metadata": {
    "tags": []
   },
   "source": [
    "# Ask Questions on specific text"
   ]
  },
  {
   "cell_type": "markdown",
   "id": "bafb8113-9982-45b3-a104-f00cc0560564",
   "metadata": {},
   "source": [
    "## Distilbert - max 512 words"
   ]
  },
  {
   "cell_type": "code",
   "execution_count": 320,
   "id": "345058b6-f931-42b0-8fde-549b451c0e29",
   "metadata": {},
   "outputs": [],
   "source": [
    "tokenizer = AutoTokenizer.from_pretrained(\"distilbert-base-uncased-distilled-squad\")\n",
    "\n",
    "model = AutoModelForQuestionAnswering.from_pretrained(\"distilbert-base-uncased-distilled-squad\")"
   ]
  },
  {
   "cell_type": "code",
   "execution_count": 359,
   "id": "73ebb442-dabc-4882-ae0e-6edb9fe41b24",
   "metadata": {},
   "outputs": [],
   "source": [
    "def distilbert_ask(question, text, tokenizer, model):\n",
    "    inputs = tokenizer(question, text, return_tensors=\"pt\")\n",
    "    with torch.no_grad():\n",
    "        outputs = model(**inputs)\n",
    "\n",
    "    answer_start_index = outputs.start_logits.argmax()\n",
    "    answer_end_index = outputs.end_logits.argmax()\n",
    "\n",
    "    predict_answer_tokens = inputs.input_ids[0, answer_start_index : answer_end_index + 1]\n",
    "    return tokenizer.decode(predict_answer_tokens)\n"
   ]
  },
  {
   "cell_type": "markdown",
   "id": "f4ca4143-6ab9-44da-b5bc-b6b407e210c6",
   "metadata": {
    "tags": []
   },
   "source": [
    "## Distilbert - Demo"
   ]
  },
  {
   "cell_type": "code",
   "execution_count": 148,
   "id": "e9c3d804-342b-47ee-bc5d-4f78c01dfdc9",
   "metadata": {},
   "outputs": [
    {
     "name": "stdin",
     "output_type": "stream",
     "text": [
      "wikipedia page title: kmeans\n"
     ]
    },
    {
     "name": "stdout",
     "output_type": "stream",
     "text": [
      "\n",
      "page title: K-means clustering\n",
      "\n",
      "summary:\n",
      "\n",
      "k-means clustering is a method of vector quantization, originally from signal processing, that aims to partition n observations into k clusters in which each observation belongs to the cluster with the nearest mean (cluster centers or cluster centroid), serving as a prototype of the cluster. This results in a partitioning of the data space into Voronoi cells. k-means clustering minimizes within-cluster variances (squared Euclidean distances), but not regular Euclidean distances, which would be the more difficult Weber problem: the mean optimizes squared errors, whereas only the geometric median minimizes Euclidean distances. For instance, better Euclidean solutions can be found using k-medians and k-medoids.\n",
      "The problem is computationally difficult (NP-hard); however, efficient heuristic algorithms converge quickly to a local optimum. These are usually similar to the expectation-maximization algorithm for mixtures of Gaussian distributions via an iterative refinement approach employed by both k-means and Gaussian mixture modeling. They both use cluster centers to model the data; however, k-means clustering tends to find clusters of comparable spatial extent, while the Gaussian mixture model allows clusters to have different shapes.\n",
      "The unsupervised k-means algorithm has a loose relationship to the k-nearest neighbor classifier, a popular supervised machine learning technique for classification that is often confused with k-means due to the name. Applying the 1-nearest neighbor classifier to the cluster centers obtained by k-means classifies new data into the existing clusters. This is known as nearest centroid classifier or Rocchio algorithm.\n"
     ]
    }
   ],
   "source": [
    "page_title = input('wikipedia page title:')\n",
    "page_py = wiki_wiki.page(page_title)\n",
    "if not page_py.exists():\n",
    "    print('page does not exist')\n",
    "else:\n",
    "    print('\\npage title:', page_py.title)\n",
    "    print('\\nsummary:\\n')\n",
    "    print(page_py.summary)\n"
   ]
  },
  {
   "cell_type": "code",
   "execution_count": 362,
   "id": "3dfe8d0a-d092-4b83-a7d6-9b8386f062ab",
   "metadata": {},
   "outputs": [
    {
     "data": {
      "text/plain": [
       "'In the mathematical theory of stochastic processes, variable-order Markov (VOM) models are an important class of models that extend the well known Markov chain models. In contrast to the Markov chain models, where each random variable in a sequence with a Markov property depends on a fixed number of random variables, in VOM models this number of conditioning random variables may vary based on the specific observed realization.\\nThis realization sequence is often called the context; therefore the VOM models are also called context trees. VOM models are nicely rendered by colorized probabilistic suffix trees (PST). The flexibility in the number of conditioning random variables turns out to be of real advantage for many applications, such as statistical analysis, classification and prediction.'"
      ]
     },
     "execution_count": 362,
     "metadata": {},
     "output_type": "execute_result"
    }
   ],
   "source": [
    "page_py.summary"
   ]
  },
  {
   "cell_type": "code",
   "execution_count": 363,
   "id": "11542e3a-5e11-4bba-94e9-b0c8aa26878d",
   "metadata": {},
   "outputs": [
    {
     "name": "stdin",
     "output_type": "stream",
     "text": [
      "question:\n",
      " what is variable-order\n"
     ]
    },
    {
     "data": {
      "text/plain": [
       "'vom ) models'"
      ]
     },
     "execution_count": 363,
     "metadata": {},
     "output_type": "execute_result"
    }
   ],
   "source": [
    "question = input('question:\\n')\n",
    "distilbert_ask(question, page_py.summary, tokenizer=tokenizer, model=model)"
   ]
  },
  {
   "cell_type": "markdown",
   "id": "84a87fef-b747-44ad-a82b-fa2d3746c754",
   "metadata": {
    "tags": []
   },
   "source": [
    "# Asking any question"
   ]
  },
  {
   "cell_type": "code",
   "execution_count": null,
   "id": "18b13979-11fb-4096-bc19-e43d7a07cea1",
   "metadata": {},
   "outputs": [],
   "source": [
    "question = input('question:\\n')"
   ]
  },
  {
   "cell_type": "code",
   "execution_count": 319,
   "id": "274f9e8e-52d1-44bd-aa45-1dff4abbb610",
   "metadata": {},
   "outputs": [],
   "source": [
    "question = 'what is the metric of kmeans?'"
   ]
  },
  {
   "cell_type": "code",
   "execution_count": 358,
   "id": "3c86faf3-ed3b-4709-8750-176a086ce89e",
   "metadata": {},
   "outputs": [],
   "source": [
    "from typing import Iterable"
   ]
  },
  {
   "cell_type": "code",
   "execution_count": 420,
   "id": "61c61434-7ce4-4450-89eb-0e0f9a344be0",
   "metadata": {},
   "outputs": [],
   "source": [
    "# related articles\n",
    "corpus_df = pd.read_csv(f'corpus_wikipedia_{CORPUS_TO_USE}.csv')\n",
    "corpus_embeddingsLoaded = torch.load(f'corpus_embeddings_{CORPUS_TO_USE}.pt')\n",
    "embedder = SentenceTransformer('all-MiniLM-L6-v2', device=device)\n",
    "\n",
    "# question asking\n",
    "tokenizer = AutoTokenizer.from_pretrained(\"distilbert-base-uncased-distilled-squad\")\n",
    "question_model = AutoModelForQuestionAnswering.from_pretrained(\"distilbert-base-uncased-distilled-squad\")\n",
    "\n",
    "question_models = {\n",
    "    'distillbert': {'model': question_model, 'max_words': 512},\n",
    "}"
   ]
  },
  {
   "cell_type": "code",
   "execution_count": 436,
   "id": "7cf30233-30a7-4b7b-ae6e-a17f68aa84d2",
   "metadata": {},
   "outputs": [],
   "source": [
    "def ask_question(question: str,\n",
    "                 related_articles_model,\n",
    "                 related_articles_embedder,\n",
    "                 related_articles_corpus: pd.DataFrame,\n",
    "                 question_models: dict,\n",
    "                 question_tokenizer,\n",
    "                 related_articles_top_k: int = 5,\n",
    "                 ):\n",
    "    # get all relevant articles\n",
    "    related = get_related_articles_top_k(query=question,\n",
    "                                         corpus=related_articles_corpus,\n",
    "                                         embedder=related_articles_embedder,\n",
    "                                         model=related_articles_model,\n",
    "                                         top_k=related_articles_top_k\n",
    "                                        )\n",
    "    results = pd.DataFrame()\n",
    "    # for each relevant article\n",
    "    for idx, page in related.iterrows():        \n",
    "        results.at[idx, 'article title'] = page['title']\n",
    "        results.at[idx, 'article summary'] = page['summary']\n",
    "        \n",
    "        # for each question asking model\n",
    "        for model_name, model_data in question_models.items():\n",
    "            model = model_data['model']\n",
    "            max_words = model_data['max_words']\n",
    "            \n",
    "            # run model on questin with text\n",
    "            # TODO validate text has less than max_words (crop)\n",
    "            \n",
    "            text = page['summary']\n",
    "            assert len(text.split()) < max_words\n",
    "            assert text.strip() != ''  # context must be provided\n",
    "            answer = distilbert_ask(question=question,\n",
    "                                    text=text,\n",
    "                                    tokenizer=question_tokenizer,\n",
    "                                    model=model)\n",
    "            \n",
    "            results.at[idx, model_name] = answer\n",
    "        \n",
    "    \n",
    "    return related, results\n",
    "    "
   ]
  },
  {
   "cell_type": "code",
   "execution_count": 442,
   "id": "ad6b3d0c-e970-4902-a05a-fca7a9d6cb78",
   "metadata": {},
   "outputs": [],
   "source": [
    "related, results = \\\n",
    "ask_question('what is k-means metric?',\n",
    "             related_articles_model=corpus_embeddingsLoaded,\n",
    "             related_articles_embedder=embedder,\n",
    "             related_articles_corpus=df,\n",
    "             question_models=question_models,\n",
    "             question_tokenizer=tokenizer,\n",
    "             related_articles_top_k= 10,\n",
    "            )"
   ]
  },
  {
   "cell_type": "code",
   "execution_count": 447,
   "id": "721561fb-fb2b-4ac8-a0f3-59c04011224b",
   "metadata": {},
   "outputs": [
    {
     "data": {
      "text/plain": [
       "''"
      ]
     },
     "execution_count": 447,
     "metadata": {},
     "output_type": "execute_result"
    }
   ],
   "source": [
    "distilbert_ask(question='what is k-means metric?',\n",
    "               text=results.loc[1245]['article summary'],\n",
    "               tokenizer=tokenizer,\n",
    "               model=model)"
   ]
  },
  {
   "cell_type": "code",
   "execution_count": 443,
   "id": "1cdfc1e6-c463-48c8-bbf0-f0105aac324b",
   "metadata": {},
   "outputs": [
    {
     "data": {
      "text/html": [
       "<div>\n",
       "<style scoped>\n",
       "    .dataframe tbody tr th:only-of-type {\n",
       "        vertical-align: middle;\n",
       "    }\n",
       "\n",
       "    .dataframe tbody tr th {\n",
       "        vertical-align: top;\n",
       "    }\n",
       "\n",
       "    .dataframe thead th {\n",
       "        text-align: right;\n",
       "    }\n",
       "</style>\n",
       "<table border=\"1\" class=\"dataframe\">\n",
       "  <thead>\n",
       "    <tr style=\"text-align: right;\">\n",
       "      <th></th>\n",
       "      <th>article title</th>\n",
       "      <th>article summary</th>\n",
       "      <th>distillbert</th>\n",
       "    </tr>\n",
       "  </thead>\n",
       "  <tbody>\n",
       "    <tr>\n",
       "      <th>1248</th>\n",
       "      <td>K-medoids</td>\n",
       "      <td>The k-medoids problem is a clustering problem ...</td>\n",
       "      <td>[CLS]</td>\n",
       "    </tr>\n",
       "    <tr>\n",
       "      <th>1247</th>\n",
       "      <td>K-medians clustering</td>\n",
       "      <td>In statistics, k-medians clustering is a clust...</td>\n",
       "      <td>squared 2 - norm distance metric</td>\n",
       "    </tr>\n",
       "    <tr>\n",
       "      <th>1203</th>\n",
       "      <td>Determining the number of clusters in a data set</td>\n",
       "      <td>Determining the number of clusters in a data s...</td>\n",
       "      <td>a quantity</td>\n",
       "    </tr>\n",
       "    <tr>\n",
       "      <th>1249</th>\n",
       "      <td>K-SVD</td>\n",
       "      <td>In applied mathematics, K-SVD is a dictionary ...</td>\n",
       "      <td>clustering method</td>\n",
       "    </tr>\n",
       "    <tr>\n",
       "      <th>1245</th>\n",
       "      <td>K-means clustering</td>\n",
       "      <td>k-means clustering is a method of vector quant...</td>\n",
       "      <td></td>\n",
       "    </tr>\n",
       "    <tr>\n",
       "      <th>1246</th>\n",
       "      <td>K-means++</td>\n",
       "      <td>In data mining, k-means++ is an algorithm for ...</td>\n",
       "      <td>an algorithm for choosing the initial values (...</td>\n",
       "    </tr>\n",
       "    <tr>\n",
       "      <th>1211</th>\n",
       "      <td>Automatic clustering algorithms</td>\n",
       "      <td>Automatic clustering algorithms are algorithms...</td>\n",
       "      <td>clustering</td>\n",
       "    </tr>\n",
       "    <tr>\n",
       "      <th>727</th>\n",
       "      <td>K-nearest neighbors algorithm</td>\n",
       "      <td>In statistics, the k-nearest neighbors algorit...</td>\n",
       "      <td>k - nearest neighbors algorithm</td>\n",
       "    </tr>\n",
       "    <tr>\n",
       "      <th>1236</th>\n",
       "      <td>Data stream clustering</td>\n",
       "      <td>In computer science, data stream clustering is...</td>\n",
       "      <td>data stream clustering</td>\n",
       "    </tr>\n",
       "    <tr>\n",
       "      <th>1244</th>\n",
       "      <td>K q-flats</td>\n",
       "      <td>In data mining and machine learning, \\n  \\n   ...</td>\n",
       "      <td>k { \\ displaystyle k } - means algorithm</td>\n",
       "    </tr>\n",
       "  </tbody>\n",
       "</table>\n",
       "</div>"
      ],
      "text/plain": [
       "                                         article title  \\\n",
       "1248                                         K-medoids   \n",
       "1247                              K-medians clustering   \n",
       "1203  Determining the number of clusters in a data set   \n",
       "1249                                             K-SVD   \n",
       "1245                                K-means clustering   \n",
       "1246                                         K-means++   \n",
       "1211                   Automatic clustering algorithms   \n",
       "727                      K-nearest neighbors algorithm   \n",
       "1236                            Data stream clustering   \n",
       "1244                                         K q-flats   \n",
       "\n",
       "                                        article summary  \\\n",
       "1248  The k-medoids problem is a clustering problem ...   \n",
       "1247  In statistics, k-medians clustering is a clust...   \n",
       "1203  Determining the number of clusters in a data s...   \n",
       "1249  In applied mathematics, K-SVD is a dictionary ...   \n",
       "1245  k-means clustering is a method of vector quant...   \n",
       "1246  In data mining, k-means++ is an algorithm for ...   \n",
       "1211  Automatic clustering algorithms are algorithms...   \n",
       "727   In statistics, the k-nearest neighbors algorit...   \n",
       "1236  In computer science, data stream clustering is...   \n",
       "1244  In data mining and machine learning, \\n  \\n   ...   \n",
       "\n",
       "                                            distillbert  \n",
       "1248                                              [CLS]  \n",
       "1247                   squared 2 - norm distance metric  \n",
       "1203                                         a quantity  \n",
       "1249                                  clustering method  \n",
       "1245                                                     \n",
       "1246  an algorithm for choosing the initial values (...  \n",
       "1211                                         clustering  \n",
       "727                     k - nearest neighbors algorithm  \n",
       "1236                             data stream clustering  \n",
       "1244           k { \\ displaystyle k } - means algorithm  "
      ]
     },
     "execution_count": 443,
     "metadata": {},
     "output_type": "execute_result"
    }
   ],
   "source": [
    "results"
   ]
  },
  {
   "cell_type": "code",
   "execution_count": null,
   "id": "f39f7018-0afd-4288-ad4a-1a3480638370",
   "metadata": {},
   "outputs": [],
   "source": []
  }
 ],
 "metadata": {
  "kernelspec": {
   "display_name": "Python 3 (ipykernel)",
   "language": "python",
   "name": "python3"
  },
  "language_info": {
   "codemirror_mode": {
    "name": "ipython",
    "version": 3
   },
   "file_extension": ".py",
   "mimetype": "text/x-python",
   "name": "python",
   "nbconvert_exporter": "python",
   "pygments_lexer": "ipython3",
   "version": "3.8.10"
  }
 },
 "nbformat": 4,
 "nbformat_minor": 5
}
